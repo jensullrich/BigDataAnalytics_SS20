{
 "cells": [
  {
   "cell_type": "markdown",
   "metadata": {},
   "source": [
    "# Ex 1.1: MapReduce with Python Functional Programming"
   ]
  },
  {
   "cell_type": "markdown",
   "metadata": {},
   "source": [
    "#### Python *map* function\n",
    "Python has e built in *map* function -> [see python docs](https://docs.python.org/3/library/functions.html#map)\n",
    "* ``map(function, iterable object)`` applies a function to every member of the object (=data structure)\n",
    "* iterable objects are e.g. lists, dicts, arrays, ... but also custom data structures (see [here](https://thispointer.com/python-how-to-make-a-class-iterable-create-iterator-class-for-it/))"
   ]
  },
  {
   "cell_type": "code",
   "execution_count": 3,
   "metadata": {},
   "outputs": [
    {
     "name": "stdout",
     "output_type": "stream",
     "text": [
      "[1, 2, 3, 4]\n",
      "[2, 3, 4, 5]\n"
     ]
    }
   ],
   "source": [
    "#example\n",
    "def Plus1(a):\n",
    "    return a+1\n",
    "\n",
    "A = [1,2,3,4]\n",
    "print(A)\n",
    "B = list(map(Plus1,A)) #need to cast map output to list\n",
    "print(B)"
   ]
  },
  {
   "cell_type": "code",
   "execution_count": 4,
   "metadata": {},
   "outputs": [
    {
     "name": "stdout",
     "output_type": "stream",
     "text": [
      "[1, 2, 3, 4]\n",
      "[3, 4, 5, 6]\n",
      "[2, 3, 6, 7]\n"
     ]
    }
   ],
   "source": [
    "#example 2 - map with an function that takes arguments\n",
    "from functools import partial\n",
    "\n",
    "def PlusX(a,x):\n",
    "    return a+x\n",
    "\n",
    "\n",
    "A = [1,2,3,4]\n",
    "print(A)\n",
    "B = list(map(partial(PlusX,x=2),A)) #use partial to fix parameters \n",
    "print(B)\n",
    "\n",
    "C = [1,1,3,3]\n",
    "D = list(map(PlusX,A,C)) #or input multiple iterable objects\n",
    "print(D)"
   ]
  },
  {
   "cell_type": "code",
   "execution_count": 5,
   "metadata": {},
   "outputs": [
    {
     "name": "stdout",
     "output_type": "stream",
     "text": [
      "[2, 3, 4, 5]\n"
     ]
    }
   ],
   "source": [
    "#example 3 - map with lmbda functions\n",
    "A = [1,2,3,4]\n",
    "B = list(map(lambda x:x+1,A ))#implement function directly with lambda\n",
    "print(B)"
   ]
  },
  {
   "cell_type": "code",
   "execution_count": 6,
   "metadata": {},
   "outputs": [
    {
     "data": {
      "text/plain": [
       "array([[ 8.37021725,  7.76736078, 17.13008741, 16.29874795,  6.50906542,\n",
       "        14.30621551,  7.64418804, 18.2111723 , 19.82309208,  2.31546459],\n",
       "       [ 5.95686777,  7.43747073,  2.31019528, 19.7645312 , 14.95989244,\n",
       "        13.59003449,  7.39255754, 16.64332712, 16.18042867, 19.64800479],\n",
       "       [18.90011766, 12.34947702,  1.29235521, 18.18023801,  4.82728854,\n",
       "         2.31095117, 19.00883106,  2.81559164,  4.7623248 ,  7.76985718],\n",
       "       [12.88654865,  8.47612124,  8.89851856,  4.59441684,  8.68208536,\n",
       "         6.53814015, 17.1965793 , 12.37817406,  6.38388327, 13.36865986],\n",
       "       [ 7.97825621, 15.45932112, 11.24156334, 16.24331089,  5.49898756,\n",
       "        16.99549017, 10.62551777,  6.01255468, 18.28961453, 16.05482249],\n",
       "       [ 3.60672156, 18.11391633, 12.50243816,  2.83952092,  0.25561726,\n",
       "         0.53174493,  2.47478128,  0.52314083, 11.24075456, 10.94378923],\n",
       "       [ 8.16944584,  3.9887654 , 11.62184448,  6.98591319, 13.33456146,\n",
       "        13.70760464,  4.82375154, 10.85828691,  2.33471701,  2.41742799],\n",
       "       [15.41869618, 10.09392479, 17.65472424, 16.56681944, 17.06270666,\n",
       "         9.53432974,  0.17563231,  2.36259944, 17.72078363, 12.72111388],\n",
       "       [10.8248871 , 16.0092934 ,  0.72279476,  1.14874264,  7.58939193,\n",
       "         6.47854979,  2.84123777,  4.04637536,  0.54710662,  3.41614888],\n",
       "       [11.33489935,  4.01884192, 18.6095278 , 16.84437585,  9.73242841,\n",
       "         0.93268636,  8.39363964,  9.40536547,  8.57904112,  5.52759557]])"
      ]
     },
     "execution_count": 6,
     "metadata": {},
     "output_type": "execute_result"
    }
   ],
   "source": [
    "#example 4 - Numpy has map \"build in\"\n",
    "import numpy as np\n",
    "A = np.random.rand(10,10)*20\n",
    "A"
   ]
  },
  {
   "cell_type": "code",
   "execution_count": 7,
   "metadata": {},
   "outputs": [],
   "source": [
    "#apply function directly on each element of an array\n",
    "def isLarger10(x):\n",
    "    return x>10\n",
    "\n",
    "B = isLarger10(A)"
   ]
  },
  {
   "cell_type": "code",
   "execution_count": 8,
   "metadata": {},
   "outputs": [
    {
     "data": {
      "text/plain": [
       "array([[False, False,  True,  True, False,  True, False,  True,  True,\n",
       "        False],\n",
       "       [False, False, False,  True,  True,  True, False,  True,  True,\n",
       "         True],\n",
       "       [ True,  True, False,  True, False, False,  True, False, False,\n",
       "        False],\n",
       "       [ True, False, False, False, False, False,  True,  True, False,\n",
       "         True],\n",
       "       [False,  True,  True,  True, False,  True,  True, False,  True,\n",
       "         True],\n",
       "       [False,  True,  True, False, False, False, False, False,  True,\n",
       "         True],\n",
       "       [False, False,  True, False,  True,  True, False,  True, False,\n",
       "        False],\n",
       "       [ True,  True,  True,  True,  True, False, False, False,  True,\n",
       "         True],\n",
       "       [ True,  True, False, False, False, False, False, False, False,\n",
       "        False],\n",
       "       [ True, False,  True,  True, False, False, False, False, False,\n",
       "        False]])"
      ]
     },
     "execution_count": 8,
     "metadata": {},
     "output_type": "execute_result"
    }
   ],
   "source": [
    "B"
   ]
  },
  {
   "cell_type": "markdown",
   "metadata": {},
   "source": [
    "#### *Reduce* in Python\n",
    "*functools* also provides a *reduce* function. Again, it will take a function and one ore more iterable objects as arguments. (see [API](https://docs.python.org/3/library/functools.html#functools.reduce))"
   ]
  },
  {
   "cell_type": "code",
   "execution_count": 9,
   "metadata": {},
   "outputs": [
    {
     "name": "stdout",
     "output_type": "stream",
     "text": [
      "The sum of the list elements is : 17\n",
      "The maximum element of the list is : 6\n"
     ]
    }
   ],
   "source": [
    "# importing functools for reduce() \n",
    "import functools \n",
    "  \n",
    "# initializing list \n",
    "lis = [ 1 , 3, 5, 6, 2, ] \n",
    "  \n",
    "def addIt(a,b):\n",
    "    return a+b\n",
    "\n",
    "# using reduce to compute sum of list \n",
    "print (\"The sum of the list elements is : \",end=\"\") \n",
    "print (functools.reduce(addIt,lis)) \n",
    "  \n",
    "# using reduce to compute maximum element from list \n",
    "print (\"The maximum element of the list is : \",end=\"\") \n",
    "print (functools.reduce(lambda a,b : a if a > b else b,lis)) "
   ]
  },
  {
   "cell_type": "markdown",
   "metadata": {},
   "source": [
    "#### Splitting"
   ]
  },
  {
   "cell_type": "code",
   "execution_count": 10,
   "metadata": {},
   "outputs": [
    {
     "name": "stdout",
     "output_type": "stream",
     "text": [
      "[1, 2, 3]\n",
      "[4, 5, 6]\n",
      "[7, 8, 9]\n"
     ]
    }
   ],
   "source": [
    "import more_itertools as mit\n",
    "\n",
    "A=[1,2,3,4,5,6,7,8,9]\n",
    "B=list(mit.chunked(A, 3)) #split into lists of max size 3\n",
    "\n",
    "for i in B: #iterate over the spitts \n",
    "    print(i)"
   ]
  },
  {
   "cell_type": "code",
   "execution_count": 11,
   "metadata": {},
   "outputs": [
    {
     "name": "stdout",
     "output_type": "stream",
     "text": [
      "['t', 'h', 'i', 's', ' ']\n",
      "['i', 's', ' ', 'a', ' ']\n",
      "['s', 'h', 'o', 'r', 't']\n",
      "[' ', 't', 'e', 'x', 't']\n",
      "[' ', 'i', 'n', ' ', 'f']\n",
      "['o', 'r', 'm', ' ', 'o']\n",
      "['f', ' ', 'a', ' ', 'p']\n",
      "['y', 't', 'h', 'o', 'n']\n",
      "[' ', 's', 't', 'r', 'i']\n",
      "['n', 'g']\n"
     ]
    }
   ],
   "source": [
    "A='this is a short text in form of a python string'\n",
    "B=list(mit.chunked(A, 5)) #split into lists of max size 5\n",
    "\n",
    "for i in B: #iterate over the spitts \n",
    "    print(i)"
   ]
  },
  {
   "cell_type": "markdown",
   "metadata": {},
   "source": [
    "## Exercise: build a simple *Character Count* Algorithm based on the above *split, map* and *reduce* operators "
   ]
  },
  {
   "cell_type": "code",
   "execution_count": 12,
   "metadata": {},
   "outputs": [],
   "source": [
    "#some text from NYTimes\n",
    "text = ' Byron Spencer, handing out water and burgers to protesters outside Los Angeles City Hall, said he was both “elated and defeated” by word of the new charges. He said he had seen countless surges of outrage over police brutality against black men, only to have it happen again. “I’m 55, I’m black and I’m male — I’ve seen the cycle,” he said. “It’s almost like PTSD constantly having this conversation with my son.” Cierra Sesay reacted to the charges at a demonstration in the shadow of the State Capitol in Denver. “It’s amazing, it’s another box we can check,” she said. “But it goes up so much higher. It’s about the system.” In San Francisco, Tevita Tomasi — who is of Polynesian descent and described himself as “dark and tall and big” — said he regularly faced racial profiling, evidence of the bigger forces that must be overcome. On Wednesday, he distributed bottled water at what he said was his first demonstration, but one that would not be his last. What would stop him from protesting?'"
   ]
  },
  {
   "cell_type": "markdown",
   "metadata": {},
   "source": [
    "* HINT: use list pf *python* [dictionaries](https://docs.python.org/3/tutorial/datastructures.html#dictionaries) to store the character counts in the map\n",
    "* HINT 2: merge the dicts in reduce"
   ]
  },
  {
   "cell_type": "code",
   "execution_count": 19,
   "metadata": {},
   "outputs": [],
   "source": [
    "def mapper(text):\n",
    "    character_counts = dict()\n",
    "    for c in text:\n",
    "        if c not in character_counts:\n",
    "            character_counts[c] = 0\n",
    "        character_counts[c] += 1\n",
    "    return character_counts\n",
    "\n",
    "def mergeDicts(A, B):\n",
    "    for key, value in B.items():\n",
    "        A[key] = A.get(key, 0) + value\n",
    "    return A"
   ]
  },
  {
   "cell_type": "code",
   "execution_count": 20,
   "metadata": {},
   "outputs": [
    {
     "name": "stdout",
     "output_type": "stream",
     "text": [
      "{' ': 176, 'B': 2, 'y': 13, 'r': 38, 'o': 52, 'n': 49, 'S': 5, 'p': 10, 'e': 89, 'c': 25, ',': 11, 'h': 39, 'a': 72, 'd': 36, 'i': 49, 'g': 19, 'u': 17, 't': 72, 'w': 13, 'b': 16, 's': 59, 'L': 1, 'A': 1, 'l': 28, 'C': 3, 'H': 2, '“': 6, 'f': 12, '”': 6, '.': 10, 'v': 9, 'k': 5, 'm': 18, 'I': 8, '’': 8, '5': 2, '—': 3, 'P': 2, 'T': 3, 'D': 2, 'z': 1, 'x': 1, 'F': 1, 'O': 1, 'W': 2, '?': 1}\n"
     ]
    }
   ],
   "source": [
    "splitted_text = list(mit.chunked(text, 5))\n",
    "\n",
    "character_count_dicts = list(map(mapper, splitted_text))\n",
    "    \n",
    "result = functools.reduce(mergeDicts,character_count_dicts)\n",
    "\n",
    "print(result)"
   ]
  },
  {
   "cell_type": "code",
   "execution_count": null,
   "metadata": {},
   "outputs": [],
   "source": []
  }
 ],
 "metadata": {
  "kernelspec": {
   "display_name": "Python 3",
   "language": "python",
   "name": "python3"
  },
  "language_info": {
   "codemirror_mode": {
    "name": "ipython",
    "version": 3
   },
   "file_extension": ".py",
   "mimetype": "text/x-python",
   "name": "python",
   "nbconvert_exporter": "python",
   "pygments_lexer": "ipython3",
   "version": "3.7.6"
  }
 },
 "nbformat": 4,
 "nbformat_minor": 4
}
